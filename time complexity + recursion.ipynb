{
 "cells": [
  {
   "cell_type": "code",
   "execution_count": null,
   "id": "c553a2cc-4721-42ad-b5bb-dbe5b52894d6",
   "metadata": {},
   "outputs": [],
   "source": [
    "Find time complexity of below code blocks :\n",
    "Problem 1 :\n",
    "def quicksort(arr):\n",
    "if len(arr) <= 1:\n",
    "return arr\n",
    "pivot = arr[len(arr) // 2]\n",
    "left = [x for x in arr if x < pivot]\n",
    "middle = [x for x in arr if x == pivot]\n",
    "right = [x for x in arr if x > pivot]\n",
    "return quicksort(left) + middle + quicksort(right)"
   ]
  },
  {
   "cell_type": "code",
   "execution_count": null,
   "id": "152dd94f-ba14-4041-b26b-e1e95b0b0888",
   "metadata": {},
   "outputs": [],
   "source": [
    "The time complexity of the provided quicksort algorithm can be analyzed as follows:\n",
    "\n",
    "1. In each recursive call, the algorithm partitions the array into three parts: elements less than the pivot, \n",
    "elements equal to the pivot, and elements greater than the pivot.\n",
    "2. The recursive calls are made for the left and right partitions.\n",
    "3. The base case is when the length of the array is 1 or less, in which case it is returned as is.\n",
    "\n",
    "Let \\(n\\) be the length of the array. In each recursive call, the algorithm performs operations proportional to the size of the array \n",
    "(e.g., creating left, middle, and right arrays). Therefore, the time complexity can be expressed as a recurrence relation:\n",
    "\n",
    "\\[ T(n) = 2T(n/2) + O(n) \\]\n",
    "\n",
    "This recurrence relation represents the work done in the recursive calls plus the work done in partitioning the array. \n",
    "The \\(O(n)\\) term corresponds to the linear time needed to partition the array.\n",
    "\n",
    "The time complexity of this quicksort implementation is \\(O(n \\log n)\\) in the average case. However,\n",
    "it's important to note that in the worst case (e.g., if the pivot always ends up being the smallest or largest element), the time complexity can degrade to \\(O(n^2)\\)."
   ]
  },
  {
   "cell_type": "code",
   "execution_count": null,
   "id": "5d3c8b6d-5759-4955-bf91-b847184945ee",
   "metadata": {},
   "outputs": [],
   "source": [
    "Problem 2 :\n",
    "def nested_loop_example(matrix):\n",
    "rows, cols = len(matrix), len(matrix[0])\n",
    "total = 0\n",
    "for i in range(rows):\n",
    "for j in range(cols):\n",
    "total += matrix[i][j]\n",
    "return total"
   ]
  },
  {
   "cell_type": "code",
   "execution_count": null,
   "id": "e77a3b4a-e1e3-402f-91d5-9d5564292e4b",
   "metadata": {},
   "outputs": [],
   "source": [
    "\n",
    "For the given code, which sums up all the elements of a matrix, the time complexity can be directly determined by analyzing the nested loop structure.\n",
    "\n",
    "Given a matrix with a size of \n",
    "�\n",
    "�\n",
    "�\n",
    "�\n",
    "×\n",
    "�\n",
    "�\n",
    "�\n",
    "�\n",
    "rows×cols, the outer loop iterates \n",
    "�\n",
    "�\n",
    "�\n",
    "�\n",
    "rows times, and for each iteration of the outer loop, the inner loop iterates \n",
    "�\n",
    "�\n",
    "�\n",
    "�\n",
    "cols times. Therefore, the total number of iterations (and thus, the total number of elementary operations performed) is equal to the product of \n",
    "�\n",
    "�\n",
    "�\n",
    "�\n",
    "rows and \n",
    "�\n",
    "�\n",
    "�\n",
    "�\n",
    "cols.\n",
    "\n",
    "The time complexity of this code is \n",
    "�\n",
    "(\n",
    "�\n",
    "�\n",
    "�\n",
    "�\n",
    "×\n",
    "�\n",
    "�\n",
    "�\n",
    "�\n",
    ")\n",
    "O(rows×cols).\n",
    "\n",
    "This\n",
    "means that the execution time of the function is directly proportional to the number of elements in the matrix. If the matrix is square, i.e., \n",
    "rows=cols=n, the time complexity simplifies to \n",
    "\n",
    "O(n 2)."
   ]
  },
  {
   "cell_type": "code",
   "execution_count": null,
   "id": "e0d1c949-f3f2-4ca3-9c18-5ad08be8f836",
   "metadata": {},
   "outputs": [],
   "source": [
    "def example_function(arr):\n",
    "result = 0\n",
    "for element in arr:\n",
    "result += element\n",
    "return result"
   ]
  },
  {
   "cell_type": "code",
   "execution_count": null,
   "id": "ab7c5eeb-e931-4f34-b42a-761b85fe5fd2",
   "metadata": {},
   "outputs": [],
   "source": [
    "O(n)"
   ]
  },
  {
   "cell_type": "code",
   "execution_count": null,
   "id": "668a5885-6e1e-4a11-a435-0ecbc182d558",
   "metadata": {},
   "outputs": [],
   "source": [
    "Problem 4 :\n",
    "def longest_increasing_subsequence(nums):\n",
    "n = len(nums)\n",
    "lis = [1] * n\n",
    "for i in range(1, n):\n",
    "for j in range(0, i):\n",
    "if nums[i] > nums[j] and lis[i] < lis[j] + 1:\n",
    "lis[i] = lis[j] + 1\n",
    "return max(lis)"
   ]
  },
  {
   "cell_type": "code",
   "execution_count": null,
   "id": "f8a235ef-b2e1-456b-9e4f-48eebba32630",
   "metadata": {},
   "outputs": [],
   "source": [
    "\n",
    "The time complexity of the longest increasing subsequence function is \n",
    "�\n",
    "(\n",
    "�\n",
    "2\n",
    ")\n",
    "O(n \n",
    "2\n",
    " ), where \n",
    "�\n",
    "n is the length of the input list nums."
   ]
  },
  {
   "cell_type": "code",
   "execution_count": null,
   "id": "cbfdc266-6fb4-47cf-80a5-7ab935c2c2ef",
   "metadata": {},
   "outputs": [],
   "source": [
    "Problem 5 :\n",
    "def mysterious_function(arr):\n",
    "n = len(arr)\n",
    "result = 0\n",
    "for i in range(n):\n",
    "for j in range(i, n):\n",
    "result += arr[i] * arr[j]\n",
    "return result"
   ]
  },
  {
   "cell_type": "code",
   "execution_count": null,
   "id": "4b3bd34c-49ff-4e35-a10d-cfedae6b995d",
   "metadata": {},
   "outputs": [],
   "source": [
    "O(n2)"
   ]
  },
  {
   "cell_type": "code",
   "execution_count": 1,
   "id": "24e2b668-c451-445d-8ece-845610026a9d",
   "metadata": {},
   "outputs": [],
   "source": [
    "##recursion"
   ]
  },
  {
   "cell_type": "code",
   "execution_count": null,
   "id": "011e40b3-ff98-4c27-9055-528407081bc6",
   "metadata": {},
   "outputs": [],
   "source": [
    "Problem 6 : Sum of Digits\n",
    "Write a recursive function to calculate the sum of digits of a given positive integer.\n",
    "sum_of_digits(123) -> 6"
   ]
  },
  {
   "cell_type": "code",
   "execution_count": 2,
   "id": "4f0fbd22-4742-428b-8ca9-df875dd1a803",
   "metadata": {},
   "outputs": [
    {
     "name": "stdout",
     "output_type": "stream",
     "text": [
      "6\n"
     ]
    }
   ],
   "source": [
    "def sum_of_digits(n):\n",
    "    # Base case: when n is less than 10\n",
    "    if n < 10:\n",
    "        return n\n",
    "    else:\n",
    "        # Recursive case: sum the last digit (n % 10) with the sum of the remaining digits\n",
    "        return n % 10 + sum_of_digits(n // 10)\n",
    "\n",
    "# Example usage\n",
    "result = sum_of_digits(123)\n",
    "print(result)  # This will print 6\n"
   ]
  },
  {
   "cell_type": "code",
   "execution_count": null,
   "id": "fed3c5e1-6830-4f01-bcd5-0974ec69a8cc",
   "metadata": {},
   "outputs": [],
   "source": [
    "Problem 7: Fibonacci Series\n",
    "Write a recursive function to generate the first n numbers of the Fibonacci series.\n",
    "fibonacci_series(6) -> [0, 1, 1, 2, 3, 5]"
   ]
  },
  {
   "cell_type": "code",
   "execution_count": 3,
   "id": "57b35a2e-b7d0-457c-a7a0-b8c27d252c91",
   "metadata": {},
   "outputs": [
    {
     "name": "stdout",
     "output_type": "stream",
     "text": [
      "[0, 1, 1, 2, 3, 5]\n"
     ]
    }
   ],
   "source": [
    "def fibonacci_series(n):\n",
    "    # Base case for recursion\n",
    "    if n == 1:\n",
    "        return [0]\n",
    "    elif n == 2:\n",
    "        return [0, 1]\n",
    "    else:\n",
    "        # Recurse and build the series up to n-1\n",
    "        series = fibonacci_series(n - 1)\n",
    "        # Append the next Fibonacci number by adding the last two numbers of the current series\n",
    "        series.append(series[-1] + series[-2])\n",
    "        return series\n",
    "\n",
    "# Example usage\n",
    "print(fibonacci_series(6))  # Output: [0, 1, 1, 2, 3, 5]\n"
   ]
  },
  {
   "cell_type": "code",
   "execution_count": null,
   "id": "b6e51158-d3c4-4405-9432-23bc01412ecd",
   "metadata": {},
   "outputs": [],
   "source": [
    "Problem 8 : Subset Sum\n",
    "Given a set of positive integers and a target sum, write a recursive function to determine if there exists a subset\n",
    "of the integers that adds up to the target sum.\n",
    "subset_sum([3, 34, 4, 12, 5, 2], 9) -> True"
   ]
  },
  {
   "cell_type": "code",
   "execution_count": null,
   "id": "8ce787ce-ad7e-4f47-bcda-837b3baf05b9",
   "metadata": {},
   "outputs": [],
   "source": [
    "def subset_sum(numbers, target, index=0):\n",
    "    # Base case: If the target sum is 0, a subset that adds up to the target is found\n",
    "    if target == 0:\n",
    "        return True\n",
    "    # Base case: If the list is exhausted and the target isn't met\n",
    "    if index >= len(numbers):\n",
    "        return False\n",
    "    \n",
    "    # Include the current number and check if the target can be met\n",
    "    if numbers[index] <= target:\n",
    "        if subset_sum(numbers, target - numbers[index], index + 1):\n",
    "            return True\n",
    "    \n",
    "    # Exclude the current number and check the rest of the list\n",
    "    return subset_sum(numbers, target, index + 1)\n",
    "\n",
    "# Example usage\n",
    "result = subset_sum([3, 34, 4, 12, 5, 2], 9)\n",
    "print(result)  # This should print True\n"
   ]
  },
  {
   "cell_type": "code",
   "execution_count": null,
   "id": "1d34c494-976f-4a59-93f5-d0fda5de321d",
   "metadata": {},
   "outputs": [],
   "source": [
    "Problem 9: Word Break\n",
    "Given a non-empty string and a dictionary of words, write a recursive function to determine if the string can be\n",
    "segmented into a space-separated sequence of dictionary words.\n",
    "word_break( leetcode , [ leet , code ]) -> True"
   ]
  },
  {
   "cell_type": "code",
   "execution_count": 4,
   "id": "8dd1143d-8468-46a0-b5d6-01e24ddd9a2c",
   "metadata": {},
   "outputs": [
    {
     "data": {
      "text/plain": [
       "True"
      ]
     },
     "execution_count": 4,
     "metadata": {},
     "output_type": "execute_result"
    }
   ],
   "source": [
    "def word_break(s, word_dict):\n",
    "    \"\"\"\n",
    "    Recursive function to determine if the string can be segmented\n",
    "    into a space-separated sequence of dictionary words.\n",
    "    \"\"\"\n",
    "    def can_break(s, word_dict, start, memo):\n",
    "        if start == len(s):\n",
    "            return True\n",
    "        if start in memo:\n",
    "            return memo[start]\n",
    "        \n",
    "        for end in range(start + 1, len(s) + 1):\n",
    "            if s[start:end] in word_dict and can_break(s, word_dict, end, memo):\n",
    "                memo[start] = True\n",
    "                return True\n",
    "                \n",
    "        memo[start] = False\n",
    "        return False\n",
    "    \n",
    "    return can_break(s, set(word_dict), 0, {})\n",
    "\n",
    "# Test the function\n",
    "word_break_result = word_break(\"leetcode\", [\"leet\", \"code\"])\n",
    "word_break_result\n"
   ]
  },
  {
   "cell_type": "code",
   "execution_count": null,
   "id": "8bba4e3a-47e7-4f0c-a661-f7675d44042a",
   "metadata": {},
   "outputs": [],
   "source": [
    "Problem 10 : N-Queens\n",
    "Implement a recursive function to solve the N Queens problem, where you have to place N queens on an N×N\n",
    "chessboard in such a way that no two queens threaten each other.\n",
    "n_queens(4)\n",
    "[\n",
    "[\".Q..\",\n",
    "\"...Q\",\n",
    "\"Q...\",\n",
    "\"..Q.\"],\n",
    "[\"..Q.\",\n",
    "\"Q...\",\n",
    "\"...Q\",\n",
    "\".Q..\"]\n",
    "]"
   ]
  },
  {
   "cell_type": "code",
   "execution_count": null,
   "id": "e484f711-1e95-479e-ad9a-16a0e908fd47",
   "metadata": {},
   "outputs": [],
   "source": [
    "def n_queens(n):\n",
    "    def solve_n_queens(row, n, board, cols, diagonals, anti_diagonals, solutions):\n",
    "        if row == n:\n",
    "            solutions.append([\"\".join(row) for row in board])\n",
    "            return\n",
    "        \n",
    "        for col in range(n):\n",
    "            current_diag = row - col\n",
    "            current_anti_diag = row + col\n",
    "            \n",
    "            if col in cols or current_diag in diagonals or current_anti_diag in anti_diagonals:\n",
    "                continue\n",
    "            \n",
    "            cols.add(col)\n",
    "            diagonals.add(current_diag)\n",
    "            anti_diagonals.add(current_anti_diag)\n",
    "            board[row][col] = \"Q\"\n",
    "            \n",
    "            solve_n_queens(row + 1, n, board, cols, diagonals, anti_diagonals, solutions)\n",
    "            \n",
    "            cols.remove(col)\n",
    "            diagonals.remove(current_diag)\n",
    "            anti_diagonals.remove(current_anti_diag)\n",
    "            board[row][col] = \".\"\n",
    "    \n",
    "    solutions = []\n",
    "    board = [[\".\" for _ in range(n)] for _ in range(n)]\n",
    "    solve_n_queens(0, n, board, set(), set(), set(), solutions)\n",
    "    return solutions\n",
    "\n",
    "# Test the function with N = 4\n",
    "n_queens_solutions = n_queens(4)\n",
    "n_queens_solutions\n"
   ]
  }
 ],
 "metadata": {
  "kernelspec": {
   "display_name": "Python 3 (ipykernel)",
   "language": "python",
   "name": "python3"
  },
  "language_info": {
   "codemirror_mode": {
    "name": "ipython",
    "version": 3
   },
   "file_extension": ".py",
   "mimetype": "text/x-python",
   "name": "python",
   "nbconvert_exporter": "python",
   "pygments_lexer": "ipython3",
   "version": "3.10.8"
  }
 },
 "nbformat": 4,
 "nbformat_minor": 5
}
