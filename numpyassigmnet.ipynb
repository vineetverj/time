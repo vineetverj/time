{
 "cells": [
  {
   "cell_type": "code",
   "execution_count": null,
   "id": "b8c5a467-d9b0-4cd3-bb33-5ce84208b86f",
   "metadata": {},
   "outputs": [],
   "source": [
    "1. What is a Python library? Why ^o we use Python libraries?"
   ]
  },
  {
   "cell_type": "code",
   "execution_count": null,
   "id": "0ddd116f-55ea-47ad-8194-599cc7ae96d2",
   "metadata": {},
   "outputs": [],
   "source": [
    "A Python library is a collection of functions, methods, \n",
    "and modules that allows you to perform many actions without writing your code from scratch.\n",
    "These libraries are developed to abstract away complex operations, provide reusable code for common tasks,\n",
    "and facilitate programming by offering a wide range of functionalities. Libraries in Python can include anything \n",
    "from data manipulation and visualization tools to machine learning frameworks and network servers.\n",
    "\n",
    "We use Python libraries for several reasons:\n",
    "\n",
    "1. **Efficiency**:\n",
    "    Using libraries, developers can save time and effort since they don't have to write and debug code for functionalities that a\n",
    "    library already provides.\n",
    "\n",
    "2. **Standardization**: Libraries often follow industry standards and best practices, ensuring that your code is up-to-date\n",
    "and compatible with other systems and technologies.\n",
    "\n",
    "3. **Complexity Management**: They help in managing complexity by encapsulating intricate code into simple-to-use functions. \n",
    "This makes it easier for developers to implement complex algorithms and processes.\n",
    "\n",
    "4. **Community and Support**: Many Python libraries are open-source and have large communities behind them. \n",
    "This means you get access to a wealth of documentation, tutorials, and support forums, which can help solve problems and improve your code.\n",
    "\n",
    "5. **Versatility**: Python libraries cover a broad range of application areas, \n",
    "from web development (like Django and Flask) to data analysis (like Pandas and NumPy), \n",
    "machine learning (like TensorFlow and scikit-learn), and beyond. This versatility makes \n",
    "Python a preferred choice for many developers across different domains.\n",
    "\n"
   ]
  },
  {
   "cell_type": "code",
   "execution_count": null,
   "id": "55dd7766-11f8-4844-8257-6f22cb248f38",
   "metadata": {},
   "outputs": [],
   "source": [
    "2. What is the ^ifference between Numpy array an^ List?"
   ]
  },
  {
   "cell_type": "code",
   "execution_count": null,
   "id": "4126b783-063f-4eb6-85d4-1039186801be",
   "metadata": {},
   "outputs": [],
   "source": [
    "Data Type:\n",
    "\n",
    "NumPy Arrays:\n",
    "Must contain elements of the same data type (int, float, string, bool, etc.). This promotes efficiency and compactness.\n",
    "Supports advanced data types like complex numbers and arbitrary user-defined types.\n",
    "Lists:\n",
    "Can store elements of any data type, offering flexibility but sacrificing optimization.\n",
    "Memory Usage:\n",
    "\n",
    "NumPy Arrays:\n",
    "Store elements contiguously in memory, significantly reducing overhead compared to lists.\n",
    "Employ a single data type, further enhancing memory efficiency.\n",
    "Lists:\n",
    "Each element requires additional memory overhead for its data type and pointer information.\n",
    "Storing heterogeneous types further increases memory usage.\n",
    "Operations:\n",
    "\n",
    "NumPy Arrays:\n",
    "Optimized for mathematical and numerical operations using vectorized functions (e.g., numpy.add, numpy.sin).\n",
    "Highly efficient for large datasets due to vectorized calculations and underlying C/C++ code.\n",
    "Lists:\n",
    "Python's built-in methods (e.g., +, -, *) handle operations element-wise, leading to slower performance for large datasets.\n",
    "Applications:\n",
    "\n",
    "NumPy Arrays:\n",
    "Ideal for numerical computations, linear algebra, data analysis, machine learning, image processing, scientific computing, and more.\n",
    "Excel at tasks involving large datasets and extensive calculations.\n",
    "Lists:\n",
    "Better suited for general-purpose data storage and manipulation where flexibility is paramount.\n",
    "Useful for smaller datasets or when data types cannot be homogenized.\n",
    "Choosing the Right Data Structure:\n",
    "\n",
    "NumPy Arrays:\n",
    "Use when you need:\n",
    "Speed and efficiency for numerical operations.\n",
    "Homogeneous data for large datasets.\n",
    "Efficient memory usage.\n",
    "Consider for large-scale numerical computing, machine learning, data analysis, and scientific simulations.\n",
    "Lists:\n",
    "Use when you need:\n",
    "Flexibility to store different data types.\n",
    "Simple data manipulation without extensive calculations.\n",
    "Working with smaller datasets.\n",
    "Consider for general-purpose data storage, manipulating mixed data types, or prototyping."
   ]
  },
  {
   "cell_type": "code",
   "execution_count": null,
   "id": "d8113bd0-1572-4238-adaa-1ccc95e86dd6",
   "metadata": {},
   "outputs": [],
   "source": [
    "3. Fin^ the shape, size an^ ^imension of the following array?\n",
    "[[1, 2, 3, 4]\n",
    "[5, 6, 7, 8],\n",
    "[9, 10, 11, 12]]"
   ]
  },
  {
   "cell_type": "code",
   "execution_count": 15,
   "id": "5a698860-e4d8-4b06-8c61-25d3ea9bf4d9",
   "metadata": {},
   "outputs": [],
   "source": [
    "import numpy as np\n",
    "l = np.array([\n",
    "    [1, 2, 3, 4],  # Note the added comma here\n",
    "    [5, 6, 7, 8],\n",
    "    [9, 10, 11, 12]\n",
    "])\n",
    "\n"
   ]
  },
  {
   "cell_type": "code",
   "execution_count": 16,
   "id": "f7b719ba-9ac7-4a12-aaa8-b3cc06e45845",
   "metadata": {},
   "outputs": [
    {
     "data": {
      "text/plain": [
       "12"
      ]
     },
     "execution_count": 16,
     "metadata": {},
     "output_type": "execute_result"
    }
   ],
   "source": [
    "l.size\n"
   ]
  },
  {
   "cell_type": "code",
   "execution_count": 12,
   "id": "ee94a72a-b355-46e2-928e-ca7b49dcde1a",
   "metadata": {},
   "outputs": [
    {
     "data": {
      "text/plain": [
       "(3, 4)"
      ]
     },
     "execution_count": 12,
     "metadata": {},
     "output_type": "execute_result"
    }
   ],
   "source": [
    "l.shape"
   ]
  },
  {
   "cell_type": "code",
   "execution_count": 13,
   "id": "be561875-c6ac-42e6-bd86-d3cb49bbf52b",
   "metadata": {},
   "outputs": [
    {
     "data": {
      "text/plain": [
       "2"
      ]
     },
     "execution_count": 13,
     "metadata": {},
     "output_type": "execute_result"
    }
   ],
   "source": [
    "l.ndim"
   ]
  },
  {
   "cell_type": "code",
   "execution_count": null,
   "id": "81d55522-6a2c-492d-ad79-b92bd447273d",
   "metadata": {},
   "outputs": [],
   "source": [
    "4. Write python co^e to access the first row of the following array?\n",
    "[[1, 2, 3, 4]\n",
    "[5, 6, 7, 8],\n",
    "[9, 10, 11, 12]]"
   ]
  },
  {
   "cell_type": "code",
   "execution_count": 14,
   "id": "10bfac92-c6a7-4744-aedb-ec83515e9efd",
   "metadata": {},
   "outputs": [
    {
     "data": {
      "text/plain": [
       "array([1, 2, 3, 4])"
      ]
     },
     "execution_count": 14,
     "metadata": {},
     "output_type": "execute_result"
    }
   ],
   "source": [
    "import numpy as np\n",
    "\n",
    "# Define the array using numpy\n",
    "array = np.array([\n",
    "    [1, 2, 3, 4],\n",
    "    [5, 6, 7, 8],\n",
    "    [9, 10, 11, 12]\n",
    "])\n",
    "\n",
    "# Access the first row\n",
    "first_row = array[0, :]\n",
    "\n",
    "first_row\n"
   ]
  },
  {
   "cell_type": "code",
   "execution_count": null,
   "id": "be398395-fa6e-42ba-8ed3-7f08bc9f7f53",
   "metadata": {},
   "outputs": [],
   "source": [
    "5. How ^o you access the element at the thir^ row an^ fourth column from the given numpy array?\n",
    "[[1, 2, 3, 4]\n",
    "[5, 6, 7, 8],\n",
    "[9, 10, 11, 12]]"
   ]
  },
  {
   "cell_type": "code",
   "execution_count": 23,
   "id": "e7561415-9b33-4dab-9f53-637ce5707023",
   "metadata": {},
   "outputs": [
    {
     "name": "stdout",
     "output_type": "stream",
     "text": [
      "12\n"
     ]
    }
   ],
   "source": [
    "import numpy as np\n",
    "\n",
    "# Define the array using numpy\n",
    "array = np.array([\n",
    "    [1, 2, 3, 4],\n",
    "    [5, 6, 7, 8],\n",
    "    [9, 10, 11, 12]\n",
    "])\n",
    "\n",
    "# Access the element at the third row and fourth column\n",
    "element = array[2, 3]\n",
    "\n",
    "print(element)\n"
   ]
  },
  {
   "cell_type": "code",
   "execution_count": null,
   "id": "352122dd-41dd-41d6-bf2e-24b7313fc1e8",
   "metadata": {},
   "outputs": [],
   "source": [
    "6. Write co^e to extract all o^^-in^exe^ elements from the given numpy array?\n",
    "[[1, 2, 3, 4]\n",
    "[5, 6, 7, 8],\n",
    "[9, 10, 11, 12]]\n"
   ]
  },
  {
   "cell_type": "code",
   "execution_count": 24,
   "id": "11aaefb7-8384-4fbf-af0d-a243e4c9eb1c",
   "metadata": {},
   "outputs": [
    {
     "name": "stdout",
     "output_type": "stream",
     "text": [
      "[[ 2  4]\n",
      " [ 6  8]\n",
      " [10 12]]\n"
     ]
    }
   ],
   "source": [
    "import numpy as np\n",
    "\n",
    "# Define the array using numpy\n",
    "array = np.array([\n",
    "    [1, 2, 3, 4],\n",
    "    [5, 6, 7, 8],\n",
    "    [9, 10, 11, 12]\n",
    "])\n",
    "\n",
    "# Extract odd-indexed elements from the array\n",
    "# This slices all rows, but steps through columns by 2, starting from the second column (index 1)\n",
    "odd_indexed_elements = array[:, 1::2]\n",
    "\n",
    "print(odd_indexed_elements)\n"
   ]
  },
  {
   "cell_type": "code",
   "execution_count": null,
   "id": "d3c852a5-b463-4abc-980e-0fe9bea92612",
   "metadata": {},
   "outputs": [],
   "source": [
    "7. How can you generate a ran^om 3x3 matrix with values between 0 an^ 1?"
   ]
  },
  {
   "cell_type": "code",
   "execution_count": 26,
   "id": "d9292fbf-b7fa-4fef-9a2d-383ec395e303",
   "metadata": {},
   "outputs": [
    {
     "data": {
      "text/plain": [
       "array([[0.92637732, 0.11521598, 0.64601384],\n",
       "       [0.91982955, 0.05071681, 0.49481569],\n",
       "       [0.61641027, 0.24953065, 0.88119169]])"
      ]
     },
     "execution_count": 26,
     "metadata": {},
     "output_type": "execute_result"
    }
   ],
   "source": [
    "import numpy as np\n",
    "random_matrix = np.random.rand(3, 3)\n",
    "random_matrix"
   ]
  },
  {
   "cell_type": "code",
   "execution_count": null,
   "id": "94f138b4-b241-4d3c-85ee-3238279330dc",
   "metadata": {},
   "outputs": [],
   "source": [
    "8. Describe the ^ifference between np.ran^om.ran^ an^ np.ran^om.ran^n?"
   ]
  },
  {
   "cell_type": "code",
   "execution_count": 27,
   "id": "d152a251-b459-4ff8-bf93-3218d6372068",
   "metadata": {},
   "outputs": [],
   "source": [
    "# Generate a 2x3 matrix with uniform random values between 0 and 1\n",
    "uniform_matrix = np.random.rand(2, 3)\n",
    "\n",
    "# Generate a 2x3 matrix with standard normal random values\n",
    "normal_matrix = np.random.randn(2, 3)\n",
    "\n",
    "The main difference between np.random.rand and np.random.randn lies in the probability distribution they sample from:\n",
    "\n",
    "np.random.rand:\n",
    "\n",
    "Generates samples from a uniform distribution in the half-open interval [0, 1).\n",
    "This means each value between 0 (inclusive) and 1 (exclusive) has an equal probability of being selected.\n",
    "Useful when you need values spread evenly within a specific range.\n",
    "np.random.randn:\n",
    "\n",
    "Generates samples from the standard normal distribution, also known as the Gaussian distribution.\n",
    "This distribution is bell-shaped, with most values concentrated around the mean (0) and fewer values further away.\n",
    "Useful when you need values that naturally cluster around a central point with some variation."
   ]
  },
  {
   "cell_type": "code",
   "execution_count": 28,
   "id": "f8140bc2-1579-44d6-892a-5d53cfc8db44",
   "metadata": {},
   "outputs": [
    {
     "data": {
      "text/plain": [
       "array([[ 1.36733867, -0.12997199,  1.2712781 ],\n",
       "       [-1.26280238,  1.18185791,  0.51354802]])"
      ]
     },
     "execution_count": 28,
     "metadata": {},
     "output_type": "execute_result"
    }
   ],
   "source": [
    "uniform_matrix\n",
    "normal_matrix"
   ]
  },
  {
   "cell_type": "code",
   "execution_count": null,
   "id": "13b39d61-0304-4734-a574-972cbe90ed01",
   "metadata": {},
   "outputs": [],
   "source": [
    "9. Write co^e to increase the ^imension of the following array?\n",
    "[[1, 2, 3, 4]\n",
    "[5, 6, 7, 8],\n",
    "[9, 10, 11, 12]]"
   ]
  },
  {
   "cell_type": "code",
   "execution_count": 29,
   "id": "f594ef3b-597d-45f6-855a-0856e1723299",
   "metadata": {},
   "outputs": [
    {
     "name": "stdout",
     "output_type": "stream",
     "text": [
      "(3, 4, 1)\n"
     ]
    }
   ],
   "source": [
    "import numpy as np\n",
    "\n",
    "# Define the array using numpy\n",
    "array = np.array([\n",
    "    [1, 2, 3, 4],\n",
    "    [5, 6, 7, 8],\n",
    "    [9, 10, 11, 12]\n",
    "])\n",
    "\n",
    "# Increase the dimension of the array\n",
    "# Adding a new axis at the end to convert from 2D to 3D\n",
    "array_3d = array[:, :, np.newaxis]\n",
    "\n",
    "print(array_3d.shape)\n"
   ]
  },
  {
   "cell_type": "code",
   "execution_count": null,
   "id": "275b583c-02ef-467f-ba86-1eae42a8c90e",
   "metadata": {},
   "outputs": [],
   "source": [
    "10. How to transpose the following array in NumPy?\n",
    "[[1, 2, 3, 4]\n",
    "[5, 6, 7, 8],\n",
    "[9, 10, 11, 12]]"
   ]
  },
  {
   "cell_type": "code",
   "execution_count": 30,
   "id": "13aa24c5-7e64-4129-abca-08d61e71a492",
   "metadata": {},
   "outputs": [
    {
     "data": {
      "text/plain": [
       "array([[ 1,  5,  9],\n",
       "       [ 2,  6, 10],\n",
       "       [ 3,  7, 11],\n",
       "       [ 4,  8, 12]])"
      ]
     },
     "execution_count": 30,
     "metadata": {},
     "output_type": "execute_result"
    }
   ],
   "source": [
    "# Transpose the previously defined array in numpy\n",
    "transposed_array = array.T\n",
    "\n",
    "transposed_array\n"
   ]
  },
  {
   "cell_type": "code",
   "execution_count": null,
   "id": "132d9723-6d96-4794-a183-46ac2b6efade",
   "metadata": {},
   "outputs": [],
   "source": [
    "11. Consi^er the following matrix:\n",
    "Matrix A2 [[1, 2, 3, 4] [5, 6, 7, 8],[9, 10, 11, 12]]\n",
    "Matrix B2 [[1, 2, 3, 4] [5, 6, 7, 8],[9, 10, 11, 12]]\n",
    "Perform the following operation using Python1\n",
    ",+ I(dex wiLe multiplicatio'\n",
    "]+ Matix multiplicatio'\n",
    "+ Add both the maticK\n",
    "-+ Subtact matix B om \n",
    "+ Diide Matix B by A"
   ]
  },
  {
   "cell_type": "code",
   "execution_count": 31,
   "id": "933e052c-eaea-427a-a6f7-5ae604cee40d",
   "metadata": {},
   "outputs": [
    {
     "data": {
      "text/plain": [
       "(array([[  1,   4,   9,  16],\n",
       "        [ 25,  36,  49,  64],\n",
       "        [ 81, 100, 121, 144]]),\n",
       " array([[ 30,  70, 110],\n",
       "        [ 70, 174, 278],\n",
       "        [110, 278, 446]]),\n",
       " array([[ 2,  4,  6,  8],\n",
       "        [10, 12, 14, 16],\n",
       "        [18, 20, 22, 24]]),\n",
       " array([[0, 0, 0, 0],\n",
       "        [0, 0, 0, 0],\n",
       "        [0, 0, 0, 0]]),\n",
       " array([[1., 1., 1., 1.],\n",
       "        [1., 1., 1., 1.],\n",
       "        [1., 1., 1., 1.]]))"
      ]
     },
     "execution_count": 31,
     "metadata": {},
     "output_type": "execute_result"
    }
   ],
   "source": [
    "# Define matrices A2 and B2 using numpy\n",
    "A2 = np.array([\n",
    "    [1, 2, 3, 4],\n",
    "    [5, 6, 7, 8],\n",
    "    [9, 10, 11, 12]\n",
    "])\n",
    "\n",
    "B2 = np.array([\n",
    "    [1, 2, 3, 4],\n",
    "    [5, 6, 7, 8],\n",
    "    [9, 10, 11, 12]\n",
    "])\n",
    "\n",
    "# Perform operations as requested\n",
    "# Element-wise multiplication\n",
    "elementwise_product = A2 * B2\n",
    "\n",
    "# Matrix multiplication\n",
    "matrix_product = np.dot(A2, B2.T)  # Transposing B2 for matching dimensions for dot product\n",
    "\n",
    "# Add both the matrices\n",
    "sum_matrices = A2 + B2\n",
    "\n",
    "# Subtract matrix B from A\n",
    "difference_matrices = A2 - B2\n",
    "\n",
    "# Divide Matrix B by A (element-wise)\n",
    "division_matrices = B2 / A2\n",
    "\n",
    "# Display the results\n",
    "elementwise_product, matrix_product, sum_matrices, difference_matrices, division_matrices\n"
   ]
  },
  {
   "cell_type": "code",
   "execution_count": null,
   "id": "1efa92ba-7a7e-408f-ab11-26490fe91150",
   "metadata": {},
   "outputs": [],
   "source": [
    "12. Swapping the Byte Order of an Array in NumPy"
   ]
  },
  {
   "cell_type": "code",
   "execution_count": null,
   "id": "2bd25184-9363-4f24-8f14-dcd6c8dc404a",
   "metadata": {},
   "outputs": [],
   "source": [
    "To swap the byte order of an array in NumPy, you can use the astype method with a specific dtype that specifies the desired byte order. \n",
    "For example, if you have an array of type int16 in little-endian byte order and you want to swap it to big-endian, you could use array.\n",
    "astype('>i2'). Here, '>i2' specifies a big-endian integer of 2 bytes. Conversely, '<i2' would specify little-endian. \n",
    "The method does not have a single function call specifically named for swapping byte order, \n",
    "but using astype with byte order symbols ('>' for big-endian and '<' for little-endian) effectively achieves this."
   ]
  },
  {
   "cell_type": "code",
   "execution_count": null,
   "id": "b97846b1-5a32-47df-9eab-439aa70069bc",
   "metadata": {},
   "outputs": [],
   "source": [
    "13. The Significance of np.linalg.inv"
   ]
  },
  {
   "cell_type": "code",
   "execution_count": null,
   "id": "d61a652c-777b-4dde-8025-260f9d2c08f8",
   "metadata": {},
   "outputs": [],
   "source": [
    "The np.linalg.inv function in NumPy is used to compute the inverse of a given square matrix. The inverse of a matrix \n",
    "�\n",
    "A is another matrix, often denoted as \n",
    "�\n",
    "−\n",
    "1\n",
    "A \n",
    "−1\n",
    " , such that when \n",
    "�\n",
    "A is multiplied by \n",
    "�\n",
    "−\n",
    "1\n",
    "A \n",
    "−1\n",
    " , the result is the identity matrix.\n",
    "    Computing the inverse of a matrix is significant in solving systems of linear equations, in linear algebra, \n",
    "    and in many fields of engineering and science. However, not all \n",
    "    matrices have inverses; a matrix must be square\n",
    "    (same number of rows and columns) and non-singular (having a non-zero determinant) to have an inverse."
   ]
  },
  {
   "cell_type": "code",
   "execution_count": null,
   "id": "8ac00063-5765-449a-b597-b53854ca9828",
   "metadata": {},
   "outputs": [],
   "source": [
    "14. What ^oes the np.reshape function ^o, an^ how is it use^?"
   ]
  },
  {
   "cell_type": "code",
   "execution_count": 32,
   "id": "32cf4285-90db-4a7a-87c5-28b1903350d7",
   "metadata": {},
   "outputs": [],
   "source": [
    "import numpy as np\n",
    "\n",
    "array = np.arange(6) # Creates an array [0, 1, 2, 3, 4, 5]\n",
    "reshaped_array = array.reshape((3, 2)) # Reshapes the array to 3 rows and 2 columns\n"
   ]
  },
  {
   "cell_type": "code",
   "execution_count": null,
   "id": "78630751-5cab-4a9a-af44-65f68fae6456",
   "metadata": {},
   "outputs": [],
   "source": [
    "15. What is broa^casting in Numpy?"
   ]
  },
  {
   "cell_type": "code",
   "execution_count": null,
   "id": "1f93d510-bc65-471a-bfa5-f27769d30e49",
   "metadata": {},
   "outputs": [],
   "source": []
  }
 ],
 "metadata": {
  "kernelspec": {
   "display_name": "Python 3 (ipykernel)",
   "language": "python",
   "name": "python3"
  },
  "language_info": {
   "codemirror_mode": {
    "name": "ipython",
    "version": 3
   },
   "file_extension": ".py",
   "mimetype": "text/x-python",
   "name": "python",
   "nbconvert_exporter": "python",
   "pygments_lexer": "ipython3",
   "version": "3.10.8"
  }
 },
 "nbformat": 4,
 "nbformat_minor": 5
}
